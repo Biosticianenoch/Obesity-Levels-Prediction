{
 "cells": [
  {
   "cell_type": "markdown",
   "id": "db3b4146-e515-4947-81a9-a74e54b56256",
   "metadata": {},
   "source": [
    "***Load the required libraries***"
   ]
  },
  {
   "cell_type": "code",
   "execution_count": 1,
   "id": "0e1d4bee-9118-40eb-9708-14d7c1148567",
   "metadata": {},
   "outputs": [],
   "source": [
    "import pandas as pd\n",
    "import numpy as np\n",
    "import seaborn as sns\n",
    "import matplotlib.pyplot as plt\n",
    "from sklearn.preprocessing import LabelEncoder\n",
    "import warnings\n",
    "warnings.filterwarnings(\"ignore\")"
   ]
  },
  {
   "cell_type": "markdown",
   "id": "0d862451-67d9-4772-9c29-941ff5d33493",
   "metadata": {},
   "source": [
    "**Load the dataset**"
   ]
  },
  {
   "cell_type": "code",
   "execution_count": 5,
   "id": "e22d78ae-3dec-42d3-b2e6-9ba04468a96e",
   "metadata": {},
   "outputs": [],
   "source": [
    "df = pd.read_csv(\"C:/Users/ADMIN/Desktop/Data Science/Datasets/Datasets/ObesityDataSet_raw_and_data_sinthetic.csv\")"
   ]
  },
  {
   "cell_type": "markdown",
   "id": "45b96402-79b0-4ad8-abf1-ffff1d0f4923",
   "metadata": {},
   "source": [
    "**View the first few observations of the dataset**"
   ]
  },
  {
   "cell_type": "code",
   "execution_count": 6,
   "id": "2ee5278d-fc7c-4a74-bc54-94fd0bf1296d",
   "metadata": {},
   "outputs": [
    {
     "data": {
      "text/html": [
       "<div>\n",
       "<style scoped>\n",
       "    .dataframe tbody tr th:only-of-type {\n",
       "        vertical-align: middle;\n",
       "    }\n",
       "\n",
       "    .dataframe tbody tr th {\n",
       "        vertical-align: top;\n",
       "    }\n",
       "\n",
       "    .dataframe thead th {\n",
       "        text-align: right;\n",
       "    }\n",
       "</style>\n",
       "<table border=\"1\" class=\"dataframe\">\n",
       "  <thead>\n",
       "    <tr style=\"text-align: right;\">\n",
       "      <th></th>\n",
       "      <th>Gender</th>\n",
       "      <th>Age</th>\n",
       "      <th>Height</th>\n",
       "      <th>Weight</th>\n",
       "      <th>family_history_with_overweight</th>\n",
       "      <th>FAVC</th>\n",
       "      <th>FCVC</th>\n",
       "      <th>NCP</th>\n",
       "      <th>CAEC</th>\n",
       "      <th>SMOKE</th>\n",
       "      <th>CH2O</th>\n",
       "      <th>SCC</th>\n",
       "      <th>FAF</th>\n",
       "      <th>TUE</th>\n",
       "      <th>CALC</th>\n",
       "      <th>MTRANS</th>\n",
       "      <th>NObeyesdad</th>\n",
       "    </tr>\n",
       "  </thead>\n",
       "  <tbody>\n",
       "    <tr>\n",
       "      <th>0</th>\n",
       "      <td>Female</td>\n",
       "      <td>21.0</td>\n",
       "      <td>1.62</td>\n",
       "      <td>64.0</td>\n",
       "      <td>yes</td>\n",
       "      <td>no</td>\n",
       "      <td>2.0</td>\n",
       "      <td>3.0</td>\n",
       "      <td>Sometimes</td>\n",
       "      <td>no</td>\n",
       "      <td>2.0</td>\n",
       "      <td>no</td>\n",
       "      <td>0.0</td>\n",
       "      <td>1.0</td>\n",
       "      <td>no</td>\n",
       "      <td>Public_Transportation</td>\n",
       "      <td>Normal_Weight</td>\n",
       "    </tr>\n",
       "    <tr>\n",
       "      <th>1</th>\n",
       "      <td>Female</td>\n",
       "      <td>21.0</td>\n",
       "      <td>1.52</td>\n",
       "      <td>56.0</td>\n",
       "      <td>yes</td>\n",
       "      <td>no</td>\n",
       "      <td>3.0</td>\n",
       "      <td>3.0</td>\n",
       "      <td>Sometimes</td>\n",
       "      <td>yes</td>\n",
       "      <td>3.0</td>\n",
       "      <td>yes</td>\n",
       "      <td>3.0</td>\n",
       "      <td>0.0</td>\n",
       "      <td>Sometimes</td>\n",
       "      <td>Public_Transportation</td>\n",
       "      <td>Normal_Weight</td>\n",
       "    </tr>\n",
       "    <tr>\n",
       "      <th>2</th>\n",
       "      <td>Male</td>\n",
       "      <td>23.0</td>\n",
       "      <td>1.80</td>\n",
       "      <td>77.0</td>\n",
       "      <td>yes</td>\n",
       "      <td>no</td>\n",
       "      <td>2.0</td>\n",
       "      <td>3.0</td>\n",
       "      <td>Sometimes</td>\n",
       "      <td>no</td>\n",
       "      <td>2.0</td>\n",
       "      <td>no</td>\n",
       "      <td>2.0</td>\n",
       "      <td>1.0</td>\n",
       "      <td>Frequently</td>\n",
       "      <td>Public_Transportation</td>\n",
       "      <td>Normal_Weight</td>\n",
       "    </tr>\n",
       "    <tr>\n",
       "      <th>3</th>\n",
       "      <td>Male</td>\n",
       "      <td>27.0</td>\n",
       "      <td>1.80</td>\n",
       "      <td>87.0</td>\n",
       "      <td>no</td>\n",
       "      <td>no</td>\n",
       "      <td>3.0</td>\n",
       "      <td>3.0</td>\n",
       "      <td>Sometimes</td>\n",
       "      <td>no</td>\n",
       "      <td>2.0</td>\n",
       "      <td>no</td>\n",
       "      <td>2.0</td>\n",
       "      <td>0.0</td>\n",
       "      <td>Frequently</td>\n",
       "      <td>Walking</td>\n",
       "      <td>Overweight_Level_I</td>\n",
       "    </tr>\n",
       "    <tr>\n",
       "      <th>4</th>\n",
       "      <td>Male</td>\n",
       "      <td>22.0</td>\n",
       "      <td>1.78</td>\n",
       "      <td>89.8</td>\n",
       "      <td>no</td>\n",
       "      <td>no</td>\n",
       "      <td>2.0</td>\n",
       "      <td>1.0</td>\n",
       "      <td>Sometimes</td>\n",
       "      <td>no</td>\n",
       "      <td>2.0</td>\n",
       "      <td>no</td>\n",
       "      <td>0.0</td>\n",
       "      <td>0.0</td>\n",
       "      <td>Sometimes</td>\n",
       "      <td>Public_Transportation</td>\n",
       "      <td>Overweight_Level_II</td>\n",
       "    </tr>\n",
       "    <tr>\n",
       "      <th>5</th>\n",
       "      <td>Male</td>\n",
       "      <td>29.0</td>\n",
       "      <td>1.62</td>\n",
       "      <td>53.0</td>\n",
       "      <td>no</td>\n",
       "      <td>yes</td>\n",
       "      <td>2.0</td>\n",
       "      <td>3.0</td>\n",
       "      <td>Sometimes</td>\n",
       "      <td>no</td>\n",
       "      <td>2.0</td>\n",
       "      <td>no</td>\n",
       "      <td>0.0</td>\n",
       "      <td>0.0</td>\n",
       "      <td>Sometimes</td>\n",
       "      <td>Automobile</td>\n",
       "      <td>Normal_Weight</td>\n",
       "    </tr>\n",
       "    <tr>\n",
       "      <th>6</th>\n",
       "      <td>Female</td>\n",
       "      <td>23.0</td>\n",
       "      <td>1.50</td>\n",
       "      <td>55.0</td>\n",
       "      <td>yes</td>\n",
       "      <td>yes</td>\n",
       "      <td>3.0</td>\n",
       "      <td>3.0</td>\n",
       "      <td>Sometimes</td>\n",
       "      <td>no</td>\n",
       "      <td>2.0</td>\n",
       "      <td>no</td>\n",
       "      <td>1.0</td>\n",
       "      <td>0.0</td>\n",
       "      <td>Sometimes</td>\n",
       "      <td>Motorbike</td>\n",
       "      <td>Normal_Weight</td>\n",
       "    </tr>\n",
       "    <tr>\n",
       "      <th>7</th>\n",
       "      <td>Male</td>\n",
       "      <td>22.0</td>\n",
       "      <td>1.64</td>\n",
       "      <td>53.0</td>\n",
       "      <td>no</td>\n",
       "      <td>no</td>\n",
       "      <td>2.0</td>\n",
       "      <td>3.0</td>\n",
       "      <td>Sometimes</td>\n",
       "      <td>no</td>\n",
       "      <td>2.0</td>\n",
       "      <td>no</td>\n",
       "      <td>3.0</td>\n",
       "      <td>0.0</td>\n",
       "      <td>Sometimes</td>\n",
       "      <td>Public_Transportation</td>\n",
       "      <td>Normal_Weight</td>\n",
       "    </tr>\n",
       "    <tr>\n",
       "      <th>8</th>\n",
       "      <td>Male</td>\n",
       "      <td>24.0</td>\n",
       "      <td>1.78</td>\n",
       "      <td>64.0</td>\n",
       "      <td>yes</td>\n",
       "      <td>yes</td>\n",
       "      <td>3.0</td>\n",
       "      <td>3.0</td>\n",
       "      <td>Sometimes</td>\n",
       "      <td>no</td>\n",
       "      <td>2.0</td>\n",
       "      <td>no</td>\n",
       "      <td>1.0</td>\n",
       "      <td>1.0</td>\n",
       "      <td>Frequently</td>\n",
       "      <td>Public_Transportation</td>\n",
       "      <td>Normal_Weight</td>\n",
       "    </tr>\n",
       "    <tr>\n",
       "      <th>9</th>\n",
       "      <td>Male</td>\n",
       "      <td>22.0</td>\n",
       "      <td>1.72</td>\n",
       "      <td>68.0</td>\n",
       "      <td>yes</td>\n",
       "      <td>yes</td>\n",
       "      <td>2.0</td>\n",
       "      <td>3.0</td>\n",
       "      <td>Sometimes</td>\n",
       "      <td>no</td>\n",
       "      <td>2.0</td>\n",
       "      <td>no</td>\n",
       "      <td>1.0</td>\n",
       "      <td>1.0</td>\n",
       "      <td>no</td>\n",
       "      <td>Public_Transportation</td>\n",
       "      <td>Normal_Weight</td>\n",
       "    </tr>\n",
       "  </tbody>\n",
       "</table>\n",
       "</div>"
      ],
      "text/plain": [
       "   Gender   Age  Height  Weight family_history_with_overweight FAVC  FCVC  \\\n",
       "0  Female  21.0    1.62    64.0                            yes   no   2.0   \n",
       "1  Female  21.0    1.52    56.0                            yes   no   3.0   \n",
       "2    Male  23.0    1.80    77.0                            yes   no   2.0   \n",
       "3    Male  27.0    1.80    87.0                             no   no   3.0   \n",
       "4    Male  22.0    1.78    89.8                             no   no   2.0   \n",
       "5    Male  29.0    1.62    53.0                             no  yes   2.0   \n",
       "6  Female  23.0    1.50    55.0                            yes  yes   3.0   \n",
       "7    Male  22.0    1.64    53.0                             no   no   2.0   \n",
       "8    Male  24.0    1.78    64.0                            yes  yes   3.0   \n",
       "9    Male  22.0    1.72    68.0                            yes  yes   2.0   \n",
       "\n",
       "   NCP       CAEC SMOKE  CH2O  SCC  FAF  TUE        CALC  \\\n",
       "0  3.0  Sometimes    no   2.0   no  0.0  1.0          no   \n",
       "1  3.0  Sometimes   yes   3.0  yes  3.0  0.0   Sometimes   \n",
       "2  3.0  Sometimes    no   2.0   no  2.0  1.0  Frequently   \n",
       "3  3.0  Sometimes    no   2.0   no  2.0  0.0  Frequently   \n",
       "4  1.0  Sometimes    no   2.0   no  0.0  0.0   Sometimes   \n",
       "5  3.0  Sometimes    no   2.0   no  0.0  0.0   Sometimes   \n",
       "6  3.0  Sometimes    no   2.0   no  1.0  0.0   Sometimes   \n",
       "7  3.0  Sometimes    no   2.0   no  3.0  0.0   Sometimes   \n",
       "8  3.0  Sometimes    no   2.0   no  1.0  1.0  Frequently   \n",
       "9  3.0  Sometimes    no   2.0   no  1.0  1.0          no   \n",
       "\n",
       "                  MTRANS           NObeyesdad  \n",
       "0  Public_Transportation        Normal_Weight  \n",
       "1  Public_Transportation        Normal_Weight  \n",
       "2  Public_Transportation        Normal_Weight  \n",
       "3                Walking   Overweight_Level_I  \n",
       "4  Public_Transportation  Overweight_Level_II  \n",
       "5             Automobile        Normal_Weight  \n",
       "6              Motorbike        Normal_Weight  \n",
       "7  Public_Transportation        Normal_Weight  \n",
       "8  Public_Transportation        Normal_Weight  \n",
       "9  Public_Transportation        Normal_Weight  "
      ]
     },
     "execution_count": 6,
     "metadata": {},
     "output_type": "execute_result"
    }
   ],
   "source": [
    "df.head(10)"
   ]
  },
  {
   "cell_type": "markdown",
   "id": "eea31199-aaab-49df-a94f-4099a2d411df",
   "metadata": {},
   "source": [
    "**Structure of the dataset**"
   ]
  },
  {
   "cell_type": "code",
   "execution_count": 7,
   "id": "74609f83-e715-46c0-9f2c-d48ef5c238ee",
   "metadata": {},
   "outputs": [
    {
     "name": "stdout",
     "output_type": "stream",
     "text": [
      "<class 'pandas.core.frame.DataFrame'>\n",
      "RangeIndex: 2111 entries, 0 to 2110\n",
      "Data columns (total 17 columns):\n",
      " #   Column                          Non-Null Count  Dtype  \n",
      "---  ------                          --------------  -----  \n",
      " 0   Gender                          2111 non-null   object \n",
      " 1   Age                             2111 non-null   float64\n",
      " 2   Height                          2111 non-null   float64\n",
      " 3   Weight                          2111 non-null   float64\n",
      " 4   family_history_with_overweight  2111 non-null   object \n",
      " 5   FAVC                            2111 non-null   object \n",
      " 6   FCVC                            2111 non-null   float64\n",
      " 7   NCP                             2111 non-null   float64\n",
      " 8   CAEC                            2111 non-null   object \n",
      " 9   SMOKE                           2111 non-null   object \n",
      " 10  CH2O                            2111 non-null   float64\n",
      " 11  SCC                             2111 non-null   object \n",
      " 12  FAF                             2111 non-null   float64\n",
      " 13  TUE                             2111 non-null   float64\n",
      " 14  CALC                            2111 non-null   object \n",
      " 15  MTRANS                          2111 non-null   object \n",
      " 16  NObeyesdad                      2111 non-null   object \n",
      "dtypes: float64(8), object(9)\n",
      "memory usage: 280.5+ KB\n"
     ]
    }
   ],
   "source": [
    "df.info()"
   ]
  },
  {
   "cell_type": "markdown",
   "id": "0fa9d707-4244-4d77-8554-dfd2f46d05dc",
   "metadata": {},
   "source": [
    "**Check for duplicates**"
   ]
  },
  {
   "cell_type": "code",
   "execution_count": 8,
   "id": "c050b5e8-7410-4a10-b2eb-34c6154102b3",
   "metadata": {},
   "outputs": [
    {
     "data": {
      "text/plain": [
       "24"
      ]
     },
     "execution_count": 8,
     "metadata": {},
     "output_type": "execute_result"
    }
   ],
   "source": [
    "df.duplicated().sum()"
   ]
  },
  {
   "cell_type": "markdown",
   "id": "753c1fef-29af-4259-a71b-6d760ef5750a",
   "metadata": {},
   "source": [
    "**Remove duplicates**"
   ]
  },
  {
   "cell_type": "code",
   "execution_count": 9,
   "id": "3c995606-a768-4fbf-b909-725bbaa718ea",
   "metadata": {},
   "outputs": [],
   "source": [
    "df = df.drop_duplicates()"
   ]
  },
  {
   "cell_type": "markdown",
   "id": "0232d20e-6054-4e3f-ab5c-8925b293a2aa",
   "metadata": {},
   "source": [
    "**Check for Outliers**"
   ]
  },
  {
   "cell_type": "code",
   "execution_count": 10,
   "id": "5fdb7d9e-188c-4ac4-9809-fb447a681e1b",
   "metadata": {},
   "outputs": [
    {
     "data": {
      "image/png": "[encoded data removed]",
      "text/plain": [
       "<Figure size 1000x800 with 1 Axes>"
      ]
     },
     "metadata": {},
     "output_type": "display_data"
    }
   ],
   "source": [
    "numeric_cols = df.select_dtypes(include = \"float64\")\n",
    "numeric_cols.boxplot(figsize = (10, 8))\n",
    "plt.show()"
   ]
  },
  {
   "cell_type": "markdown",
   "id": "ae1e5e1f-e996-407d-a0ea-4c81c11359e7",
   "metadata": {},
   "source": [
    "**Renaming variables**"
   ]
  },
  {
   "cell_type": "code",
   "execution_count": 11,
   "id": "bc255eeb-788a-4490-bb08-8b01ee424961",
   "metadata": {},
   "outputs": [],
   "source": [
    "df.rename(columns = {\n",
    "    'FAVC' : 'frequent_high_caloric_food',\n",
    "    'FCVC' : 'vegetable_frequency',\n",
    "    'NCP' : 'meal_frequency',\n",
    "    'CAEC' : 'food_between_meals',\n",
    "    'SMOKE' : 'smoking_status',\n",
    "    'CH2O' : 'daily_water_intake',\n",
    "    'SCC' : 'monitors_calories',\n",
    "    'FAF' : 'physical_activity',\n",
    "    'TUE' : 'technology_use_time',\n",
    "    'CALC' : 'alcohol_consumption',\n",
    "    'MTRANS' : 'transport_mode',\n",
    "    'NObeyesdad' : 'obesity_level'}, inplace = True)"
   ]
  },
  {
   "cell_type": "markdown",
   "id": "39527e79-6a01-4ac3-af9e-43614bd85fc2",
   "metadata": {},
   "source": [
    "**Handling Outliers**"
   ]
  },
  {
   "cell_type": "code",
   "execution_count": 12,
   "id": "f2a7ec06-5ea8-41cc-a991-1c6229d20e95",
   "metadata": {},
   "outputs": [],
   "source": [
    "Q1 =df['Age'].quantile(0.25)\n",
    "Q3 = df['Age'].quantile(0.75)\n",
    "IQR = Q3-Q1\n",
    "lower_bound = Q1-1.5*IQR\n",
    "upper_bound = Q3+1.5*IQR\n",
    "df = df[(df['Age'] >= lower_bound) & (df['Age'] <= upper_bound)]"
   ]
  },
  {
   "cell_type": "markdown",
   "id": "c138c542-878f-48ea-b4d5-eb29d6cfdb5f",
   "metadata": {},
   "source": [
    "**Frequency Table for Gender**"
   ]
  },
  {
   "cell_type": "code",
   "execution_count": 13,
   "id": "c3496bb6-8930-49df-bef4-d99e5bd738c4",
   "metadata": {},
   "outputs": [
    {
     "name": "stdout",
     "output_type": "stream",
     "text": [
      "        Frequency  Percentage\n",
      "Gender                       \n",
      "Male          985        51.3\n",
      "Female        935        48.7\n"
     ]
    }
   ],
   "source": [
    "freq_table = df['Gender'].value_counts()\n",
    "percent_table = df['Gender'].value_counts(normalize=True) * 100\n",
    "result = pd.DataFrame({'Frequency': freq_table, 'Percentage': percent_table.round(2)})\n",
    "print(result)"
   ]
  },
  {
   "cell_type": "markdown",
   "id": "a278ba5b-d92d-42dd-a4e2-6556ac4a7a21",
   "metadata": {},
   "source": [
    "**Frequency table for Obesity levels**"
   ]
  },
  {
   "cell_type": "code",
   "execution_count": 14,
   "id": "3751e253-11d1-4571-ad66-96340ce9ab36",
   "metadata": {},
   "outputs": [
    {
     "name": "stdout",
     "output_type": "stream",
     "text": [
      "                     Frequency  Percentage\n",
      "obesity_level                             \n",
      "Obesity_Type_III           324       16.88\n",
      "Obesity_Type_I             281       14.64\n",
      "Normal_Weight              275       14.32\n",
      "Obesity_Type_II            268       13.96\n",
      "Insufficient_Weight        266       13.85\n",
      "Overweight_Level_I         255       13.28\n",
      "Overweight_Level_II        251       13.07\n"
     ]
    }
   ],
   "source": [
    "freq_table = df['obesity_level'].value_counts()\n",
    "percent_table = df['obesity_level'].value_counts(normalize=True) * 100\n",
    "result = pd.DataFrame({'Frequency': freq_table, 'Percentage': percent_table.round(2)})\n",
    "print(result)"
   ]
  },
  {
   "cell_type": "markdown",
   "id": "ae3ffda8-bb51-4b63-9d18-30b8cb4ae649",
   "metadata": {},
   "source": [
    "**Frequency tables for frequent_high_caloric_food**"
   ]
  },
  {
   "cell_type": "code",
   "execution_count": 15,
   "id": "eae2a8bc-17b0-46b1-af49-500168448072",
   "metadata": {},
   "outputs": [
    {
     "name": "stdout",
     "output_type": "stream",
     "text": [
      "                            Frequency  Percentage\n",
      "frequent_high_caloric_food                       \n",
      "yes                              1694       88.23\n",
      "no                                226       11.77\n"
     ]
    }
   ],
   "source": [
    "freq_table = df['frequent_high_caloric_food'].value_counts()\n",
    "percent_table = df['frequent_high_caloric_food'].value_counts(normalize=True) * 100\n",
    "result = pd.DataFrame({'Frequency': freq_table, 'Percentage': percent_table.round(2)})\n",
    "print(result)"
   ]
  },
  {
   "cell_type": "markdown",
   "id": "e52a4c08-fc6b-428a-9ab7-2155029b0ce0",
   "metadata": {},
   "source": [
    "**Frequency tables for transport_mode**"
   ]
  },
  {
   "cell_type": "code",
   "execution_count": 16,
   "id": "517e6359-933b-4689-9bb0-de8c78cfc824",
   "metadata": {},
   "outputs": [
    {
     "name": "stdout",
     "output_type": "stream",
     "text": [
      "                       Frequency  Percentage\n",
      "transport_mode                              \n",
      "Public_Transportation       1550       80.73\n",
      "Automobile                   301       15.68\n",
      "Walking                       54        2.81\n",
      "Motorbike                      9        0.47\n",
      "Bike                           6        0.31\n"
     ]
    }
   ],
   "source": [
    "freq_table = df['transport_mode'].value_counts()\n",
    "percent_table = df['transport_mode'].value_counts(normalize=True) * 100\n",
    "result = pd.DataFrame({'Frequency': freq_table, 'Percentage': percent_table.round(2)})\n",
    "print(result)"
   ]
  },
  {
   "cell_type": "markdown",
   "id": "4ad87314-4ab0-4825-b5b9-0a33178dd4d3",
   "metadata": {},
   "source": [
    "**Frequency tables for alcohol_consumption**"
   ]
  },
  {
   "cell_type": "code",
   "execution_count": 17,
   "id": "e2d07c6a-f6c8-44d3-86cd-9f5d00e690cc",
   "metadata": {},
   "outputs": [
    {
     "name": "stdout",
     "output_type": "stream",
     "text": [
      "                     Frequency  Percentage\n",
      "alcohol_consumption                       \n",
      "Sometimes                 1287       67.03\n",
      "no                         577       30.05\n",
      "Frequently                  55        2.86\n",
      "Always                       1        0.05\n"
     ]
    }
   ],
   "source": [
    "freq_table = df['alcohol_consumption'].value_counts()\n",
    "percent_table = df['alcohol_consumption'].value_counts(normalize=True) * 100\n",
    "result = pd.DataFrame({'Frequency': freq_table, 'Percentage': percent_table.round(2)})\n",
    "print(result)"
   ]
  },
  {
   "cell_type": "markdown",
   "id": "5e2f32c7-e18e-43ff-ac42-e8c81948c498",
   "metadata": {},
   "source": [
    "**Creating New Variables**"
   ]
  },
  {
   "cell_type": "code",
   "execution_count": 18,
   "id": "2a2e71e9-a757-4777-95cf-b21ae9928f32",
   "metadata": {},
   "outputs": [],
   "source": [
    "df['BMI'] = df['Weight'] / (df['Height'] ** 2)"
   ]
  },
  {
   "cell_type": "markdown",
   "id": "3a69a531-07f7-4a65-9f76-a7bb845b674b",
   "metadata": {},
   "source": [
    "**Age Category**"
   ]
  },
  {
   "cell_type": "code",
   "execution_count": 19,
   "id": "1f211765-72e9-4e3c-bf3e-d83b4226a15f",
   "metadata": {},
   "outputs": [],
   "source": [
    "df['Age_Group'] = pd.cut(df['Age'],\n",
    "                         bins=[0, 18, 35, 60, 100],\n",
    "                         labels=['Teen', 'Young Adult', 'Adult', 'Senior'])"
   ]
  },
  {
   "cell_type": "markdown",
   "id": "d588c334-75f1-4884-9f2d-22c822e7b7c0",
   "metadata": {},
   "source": [
    "**Healthy Drinking Habits daily_water_intake**"
   ]
  },
  {
   "cell_type": "code",
   "execution_count": 20,
   "id": "25065955-4d4b-4503-86da-1276ebb12268",
   "metadata": {},
   "outputs": [],
   "source": [
    "df['Healthy_Drinker'] = df['daily_water_intake'].apply(lambda x: 'Yes' if x >= 2 else 'No')"
   ]
  },
  {
   "cell_type": "markdown",
   "id": "5b252175-0dd8-4c52-8cb4-79e170928d71",
   "metadata": {},
   "source": [
    "**.apply(lambda x: 'Yes' if x >= 2 else 'No'): Applies a custom function to each value x in the column:\n",
    "If x is greater than or equal to 2 liters, the person is labeled 'Yes' (i.e., a healthy drinker). If x is less than 2 liters, the person is labeled 'No'.**"
   ]
  },
  {
   "cell_type": "markdown",
   "id": "e43b9587-3dc0-43e8-9220-347c1f2df0c9",
   "metadata": {},
   "source": [
    "**Physical Activity Category**"
   ]
  },
  {
   "cell_type": "code",
   "execution_count": 21,
   "id": "9ad9c2ce-3776-4327-b52b-575d9c3a8f7b",
   "metadata": {},
   "outputs": [],
   "source": [
    "df['Physical_Activity_Level'] = pd.cut(df['physical_activity'],\n",
    "                                       bins=[-1, 0, 2, 5, 10],\n",
    "                                       labels=['None', 'Low', 'Moderate', 'High'])"
   ]
  },
  {
   "cell_type": "markdown",
   "id": "84960dd6-12de-4497-8266-8c5f1bfc1658",
   "metadata": {},
   "source": [
    "**Combined Lifestyle Score (from multiple variables)**"
   ]
  },
  {
   "cell_type": "code",
   "execution_count": 22,
   "id": "091d9a2a-3830-4413-8feb-3ffff3f410bb",
   "metadata": {},
   "outputs": [],
   "source": [
    "df['Lifestyle_Score'] = (\n",
    "    (df['frequent_high_caloric_food'] == 'no').astype(int) + \n",
    "    (df['smoking_status'] == 'no').astype(int) + \n",
    "    (df['monitors_calories'] == 'yes').astype(int) + \n",
    "    (df['physical_activity'] > 2).astype(int)\n",
    ")"
   ]
  },
  {
   "cell_type": "markdown",
   "id": "df735dab-2407-4d1c-8e5b-5abcf9d264cd",
   "metadata": {},
   "source": [
    "**If a person does not frequently consume high-calorie food, this returns True → converted to 1. If they do, it returns False → converted to 0. If the person does not smoke, they get 1. Smokers get 0. If the person monitors their calorie intake, they get 1. Otherwise, 0. If the person engages in more than 2 hours of physical activity per week/day (depending on scale), they get 1. Otherwise, 0. All these 1s and 0s are added together to get a Lifestyle Score ranging from 0 to 4, where:\n",
    "0 = No healthy behaviors\n",
    "4 = All four healthy behaviors**"
   ]
  },
  {
   "cell_type": "markdown",
   "id": "e33ec983-3b99-46a6-a4a8-09ac4c7739be",
   "metadata": {},
   "source": [
    "**Using apply() with lambda and if, elif, else**"
   ]
  },
  {
   "cell_type": "code",
   "execution_count": 23,
   "id": "ad161c3d-f31c-4ac7-96f8-133bdbada115",
   "metadata": {},
   "outputs": [],
   "source": [
    "df['Water_Category'] = df['daily_water_intake'].apply(lambda x: \n",
    "    'Low' if x < 1 else \n",
    "    'Moderate' if 1 <= x < 2 else \n",
    "    'High')"
   ]
  },
  {
   "cell_type": "markdown",
   "id": "c46fa768-25c4-4f17-8528-069d602bafae",
   "metadata": {},
   "source": [
    "**Using np.where() for simpler binary conditions**"
   ]
  },
  {
   "cell_type": "code",
   "execution_count": 24,
   "id": "11598187-3b61-43a1-8ff2-9fdf733fc690",
   "metadata": {},
   "outputs": [],
   "source": [
    "df['Is_Smoker'] = np.where(df['smoking_status'] == 'yes', 'Smoker', 'Non-Smoker')"
   ]
  },
  {
   "cell_type": "markdown",
   "id": "fbc02054-fb17-451f-b189-9e4c6cedada4",
   "metadata": {},
   "source": [
    "**Using np.select() for multiple conditions**"
   ]
  },
  {
   "cell_type": "code",
   "execution_count": 25,
   "id": "1017c007-1d13-4f52-95e3-e477126211ac",
   "metadata": {},
   "outputs": [],
   "source": [
    "conditions = [\n",
    "    df['daily_water_intake'] < 1,\n",
    "    (df['daily_water_intake'] >= 1) & (df['daily_water_intake'] < 2),\n",
    "    df['daily_water_intake'] >= 2\n",
    "]\n",
    "choices = ['Low', 'Moderate', 'High']\n",
    "df['Water_Level'] = np.select(conditions, choices)"
   ]
  },
  {
   "cell_type": "markdown",
   "id": "6e923966-b40c-44ca-8115-fb94196de595",
   "metadata": {},
   "source": [
    "**Pivoting Data (Wide ↔ Long Format)**"
   ]
  },
  {
   "cell_type": "code",
   "execution_count": 26,
   "id": "d4dd4f8d-4928-4b0a-99cc-fe6dc930cacf",
   "metadata": {},
   "outputs": [],
   "source": [
    "df_long = df.melt(id_vars=['Gender'], value_vars=['Height', 'Weight', 'Age'],\n",
    "                  var_name='Variable', value_name='Value')"
   ]
  },
  {
   "cell_type": "code",
   "execution_count": 27,
   "id": "ddae8483-f852-4c8d-b892-577b9ac31d10",
   "metadata": {},
   "outputs": [
    {
     "data": {
      "text/html": [
       "<div>\n",
       "<style scoped>\n",
       "    .dataframe tbody tr th:only-of-type {\n",
       "        vertical-align: middle;\n",
       "    }\n",
       "\n",
       "    .dataframe tbody tr th {\n",
       "        vertical-align: top;\n",
       "    }\n",
       "\n",
       "    .dataframe thead th {\n",
       "        text-align: right;\n",
       "    }\n",
       "</style>\n",
       "<table border=\"1\" class=\"dataframe\">\n",
       "  <thead>\n",
       "    <tr style=\"text-align: right;\">\n",
       "      <th></th>\n",
       "      <th>Gender</th>\n",
       "      <th>Variable</th>\n",
       "      <th>Value</th>\n",
       "    </tr>\n",
       "  </thead>\n",
       "  <tbody>\n",
       "    <tr>\n",
       "      <th>0</th>\n",
       "      <td>Female</td>\n",
       "      <td>Height</td>\n",
       "      <td>1.62</td>\n",
       "    </tr>\n",
       "    <tr>\n",
       "      <th>1</th>\n",
       "      <td>Female</td>\n",
       "      <td>Height</td>\n",
       "      <td>1.52</td>\n",
       "    </tr>\n",
       "    <tr>\n",
       "      <th>2</th>\n",
       "      <td>Male</td>\n",
       "      <td>Height</td>\n",
       "      <td>1.80</td>\n",
       "    </tr>\n",
       "    <tr>\n",
       "      <th>3</th>\n",
       "      <td>Male</td>\n",
       "      <td>Height</td>\n",
       "      <td>1.80</td>\n",
       "    </tr>\n",
       "    <tr>\n",
       "      <th>4</th>\n",
       "      <td>Male</td>\n",
       "      <td>Height</td>\n",
       "      <td>1.78</td>\n",
       "    </tr>\n",
       "  </tbody>\n",
       "</table>\n",
       "</div>"
      ],
      "text/plain": [
       "   Gender Variable  Value\n",
       "0  Female   Height   1.62\n",
       "1  Female   Height   1.52\n",
       "2    Male   Height   1.80\n",
       "3    Male   Height   1.80\n",
       "4    Male   Height   1.78"
      ]
     },
     "execution_count": 27,
     "metadata": {},
     "output_type": "execute_result"
    }
   ],
   "source": [
    "df_long.head()"
   ]
  },
  {
   "cell_type": "markdown",
   "id": "656016bc-5af5-4ee6-9403-68486977303d",
   "metadata": {},
   "source": [
    "**Grouped Reshaping: groupby() + pivot_table()**"
   ]
  },
  {
   "cell_type": "code",
   "execution_count": 28,
   "id": "a8de8648-fcbe-4441-b3aa-009d220fd64f",
   "metadata": {},
   "outputs": [],
   "source": [
    "df_summary = df.pivot_table(index='Gender', columns='obesity_level', values='Weight', aggfunc='mean')"
   ]
  },
  {
   "cell_type": "code",
   "execution_count": 29,
   "id": "cfac0130-9af5-4f89-85a4-71bf98e339fe",
   "metadata": {},
   "outputs": [
    {
     "data": {
      "text/html": [
       "<div>\n",
       "<style scoped>\n",
       "    .dataframe tbody tr th:only-of-type {\n",
       "        vertical-align: middle;\n",
       "    }\n",
       "\n",
       "    .dataframe tbody tr th {\n",
       "        vertical-align: top;\n",
       "    }\n",
       "\n",
       "    .dataframe thead th {\n",
       "        text-align: right;\n",
       "    }\n",
       "</style>\n",
       "<table border=\"1\" class=\"dataframe\">\n",
       "  <thead>\n",
       "    <tr style=\"text-align: right;\">\n",
       "      <th>obesity_level</th>\n",
       "      <th>Insufficient_Weight</th>\n",
       "      <th>Normal_Weight</th>\n",
       "      <th>Obesity_Type_I</th>\n",
       "      <th>Obesity_Type_II</th>\n",
       "      <th>Obesity_Type_III</th>\n",
       "      <th>Overweight_Level_I</th>\n",
       "      <th>Overweight_Level_II</th>\n",
       "    </tr>\n",
       "    <tr>\n",
       "      <th>Gender</th>\n",
       "      <th></th>\n",
       "      <th></th>\n",
       "      <th></th>\n",
       "      <th></th>\n",
       "      <th></th>\n",
       "      <th></th>\n",
       "      <th></th>\n",
       "    </tr>\n",
       "  </thead>\n",
       "  <tbody>\n",
       "    <tr>\n",
       "      <th>Female</th>\n",
       "      <td>46.779392</td>\n",
       "      <td>56.265909</td>\n",
       "      <td>83.874372</td>\n",
       "      <td>96.750000</td>\n",
       "      <td>120.779941</td>\n",
       "      <td>69.842129</td>\n",
       "      <td>73.057801</td>\n",
       "    </tr>\n",
       "    <tr>\n",
       "      <th>Male</th>\n",
       "      <td>55.556979</td>\n",
       "      <td>67.542657</td>\n",
       "      <td>101.643129</td>\n",
       "      <td>115.487763</td>\n",
       "      <td>173.000000</td>\n",
       "      <td>79.880177</td>\n",
       "      <td>86.338521</td>\n",
       "    </tr>\n",
       "  </tbody>\n",
       "</table>\n",
       "</div>"
      ],
      "text/plain": [
       "obesity_level  Insufficient_Weight  Normal_Weight  Obesity_Type_I  \\\n",
       "Gender                                                              \n",
       "Female                   46.779392      56.265909       83.874372   \n",
       "Male                     55.556979      67.542657      101.643129   \n",
       "\n",
       "obesity_level  Obesity_Type_II  Obesity_Type_III  Overweight_Level_I  \\\n",
       "Gender                                                                 \n",
       "Female               96.750000        120.779941           69.842129   \n",
       "Male                115.487763        173.000000           79.880177   \n",
       "\n",
       "obesity_level  Overweight_Level_II  \n",
       "Gender                              \n",
       "Female                   73.057801  \n",
       "Male                     86.338521  "
      ]
     },
     "execution_count": 29,
     "metadata": {},
     "output_type": "execute_result"
    }
   ],
   "source": [
    "df_summary.head()"
   ]
  },
  {
   "cell_type": "markdown",
   "id": "b504f436-662d-4b06-9c5e-828d1c461365",
   "metadata": {},
   "source": [
    "**Stacking / Unstacking**"
   ]
  },
  {
   "cell_type": "code",
   "execution_count": 30,
   "id": "ffdc5c5e-4e3e-4805-9ca0-53d83dc0a5a6",
   "metadata": {},
   "outputs": [],
   "source": [
    "df_stacked = df.stack() ## Make columns into rows"
   ]
  },
  {
   "cell_type": "code",
   "execution_count": 31,
   "id": "9919aa0b-eba6-47eb-b728-87ec75854196",
   "metadata": {},
   "outputs": [
    {
     "data": {
      "text/plain": [
       "0  Gender                            Female\n",
       "   Age                                 21.0\n",
       "   Height                              1.62\n",
       "   Weight                              64.0\n",
       "   family_history_with_overweight       yes\n",
       "dtype: object"
      ]
     },
     "execution_count": 31,
     "metadata": {},
     "output_type": "execute_result"
    }
   ],
   "source": [
    "df_stacked.head()"
   ]
  },
  {
   "cell_type": "code",
   "execution_count": 32,
   "id": "ddedd2cb-19d7-47b6-87ed-4c4419bfe6a5",
   "metadata": {},
   "outputs": [],
   "source": [
    "df_unstacked = df_stacked.unstack()  ## Reverse stack"
   ]
  },
  {
   "cell_type": "code",
   "execution_count": 33,
   "id": "660b51e9-ffe7-4cb9-b2c3-6b72755f81aa",
   "metadata": {},
   "outputs": [
    {
     "data": {
      "text/html": [
       "<div>\n",
       "<style scoped>\n",
       "    .dataframe tbody tr th:only-of-type {\n",
       "        vertical-align: middle;\n",
       "    }\n",
       "\n",
       "    .dataframe tbody tr th {\n",
       "        vertical-align: top;\n",
       "    }\n",
       "\n",
       "    .dataframe thead th {\n",
       "        text-align: right;\n",
       "    }\n",
       "</style>\n",
       "<table border=\"1\" class=\"dataframe\">\n",
       "  <thead>\n",
       "    <tr style=\"text-align: right;\">\n",
       "      <th></th>\n",
       "      <th>Gender</th>\n",
       "      <th>Age</th>\n",
       "      <th>Height</th>\n",
       "      <th>Weight</th>\n",
       "      <th>family_history_with_overweight</th>\n",
       "      <th>frequent_high_caloric_food</th>\n",
       "      <th>vegetable_frequency</th>\n",
       "      <th>meal_frequency</th>\n",
       "      <th>food_between_meals</th>\n",
       "      <th>smoking_status</th>\n",
       "      <th>...</th>\n",
       "      <th>transport_mode</th>\n",
       "      <th>obesity_level</th>\n",
       "      <th>BMI</th>\n",
       "      <th>Age_Group</th>\n",
       "      <th>Healthy_Drinker</th>\n",
       "      <th>Physical_Activity_Level</th>\n",
       "      <th>Lifestyle_Score</th>\n",
       "      <th>Water_Category</th>\n",
       "      <th>Is_Smoker</th>\n",
       "      <th>Water_Level</th>\n",
       "    </tr>\n",
       "  </thead>\n",
       "  <tbody>\n",
       "    <tr>\n",
       "      <th>0</th>\n",
       "      <td>Female</td>\n",
       "      <td>21.0</td>\n",
       "      <td>1.62</td>\n",
       "      <td>64.0</td>\n",
       "      <td>yes</td>\n",
       "      <td>no</td>\n",
       "      <td>2.0</td>\n",
       "      <td>3.0</td>\n",
       "      <td>Sometimes</td>\n",
       "      <td>no</td>\n",
       "      <td>...</td>\n",
       "      <td>Public_Transportation</td>\n",
       "      <td>Normal_Weight</td>\n",
       "      <td>24.386526</td>\n",
       "      <td>Young Adult</td>\n",
       "      <td>Yes</td>\n",
       "      <td>None</td>\n",
       "      <td>2</td>\n",
       "      <td>High</td>\n",
       "      <td>Non-Smoker</td>\n",
       "      <td>High</td>\n",
       "    </tr>\n",
       "    <tr>\n",
       "      <th>1</th>\n",
       "      <td>Female</td>\n",
       "      <td>21.0</td>\n",
       "      <td>1.52</td>\n",
       "      <td>56.0</td>\n",
       "      <td>yes</td>\n",
       "      <td>no</td>\n",
       "      <td>3.0</td>\n",
       "      <td>3.0</td>\n",
       "      <td>Sometimes</td>\n",
       "      <td>yes</td>\n",
       "      <td>...</td>\n",
       "      <td>Public_Transportation</td>\n",
       "      <td>Normal_Weight</td>\n",
       "      <td>24.238227</td>\n",
       "      <td>Young Adult</td>\n",
       "      <td>Yes</td>\n",
       "      <td>Moderate</td>\n",
       "      <td>3</td>\n",
       "      <td>High</td>\n",
       "      <td>Smoker</td>\n",
       "      <td>High</td>\n",
       "    </tr>\n",
       "    <tr>\n",
       "      <th>2</th>\n",
       "      <td>Male</td>\n",
       "      <td>23.0</td>\n",
       "      <td>1.8</td>\n",
       "      <td>77.0</td>\n",
       "      <td>yes</td>\n",
       "      <td>no</td>\n",
       "      <td>2.0</td>\n",
       "      <td>3.0</td>\n",
       "      <td>Sometimes</td>\n",
       "      <td>no</td>\n",
       "      <td>...</td>\n",
       "      <td>Public_Transportation</td>\n",
       "      <td>Normal_Weight</td>\n",
       "      <td>23.765432</td>\n",
       "      <td>Young Adult</td>\n",
       "      <td>Yes</td>\n",
       "      <td>Low</td>\n",
       "      <td>2</td>\n",
       "      <td>High</td>\n",
       "      <td>Non-Smoker</td>\n",
       "      <td>High</td>\n",
       "    </tr>\n",
       "    <tr>\n",
       "      <th>3</th>\n",
       "      <td>Male</td>\n",
       "      <td>27.0</td>\n",
       "      <td>1.8</td>\n",
       "      <td>87.0</td>\n",
       "      <td>no</td>\n",
       "      <td>no</td>\n",
       "      <td>3.0</td>\n",
       "      <td>3.0</td>\n",
       "      <td>Sometimes</td>\n",
       "      <td>no</td>\n",
       "      <td>...</td>\n",
       "      <td>Walking</td>\n",
       "      <td>Overweight_Level_I</td>\n",
       "      <td>26.851852</td>\n",
       "      <td>Young Adult</td>\n",
       "      <td>Yes</td>\n",
       "      <td>Low</td>\n",
       "      <td>2</td>\n",
       "      <td>High</td>\n",
       "      <td>Non-Smoker</td>\n",
       "      <td>High</td>\n",
       "    </tr>\n",
       "    <tr>\n",
       "      <th>4</th>\n",
       "      <td>Male</td>\n",
       "      <td>22.0</td>\n",
       "      <td>1.78</td>\n",
       "      <td>89.8</td>\n",
       "      <td>no</td>\n",
       "      <td>no</td>\n",
       "      <td>2.0</td>\n",
       "      <td>1.0</td>\n",
       "      <td>Sometimes</td>\n",
       "      <td>no</td>\n",
       "      <td>...</td>\n",
       "      <td>Public_Transportation</td>\n",
       "      <td>Overweight_Level_II</td>\n",
       "      <td>28.342381</td>\n",
       "      <td>Young Adult</td>\n",
       "      <td>Yes</td>\n",
       "      <td>None</td>\n",
       "      <td>2</td>\n",
       "      <td>High</td>\n",
       "      <td>Non-Smoker</td>\n",
       "      <td>High</td>\n",
       "    </tr>\n",
       "  </tbody>\n",
       "</table>\n",
       "<p>5 rows × 25 columns</p>\n",
       "</div>"
      ],
      "text/plain": [
       "   Gender   Age Height Weight family_history_with_overweight  \\\n",
       "0  Female  21.0   1.62   64.0                            yes   \n",
       "1  Female  21.0   1.52   56.0                            yes   \n",
       "2    Male  23.0    1.8   77.0                            yes   \n",
       "3    Male  27.0    1.8   87.0                             no   \n",
       "4    Male  22.0   1.78   89.8                             no   \n",
       "\n",
       "  frequent_high_caloric_food vegetable_frequency meal_frequency  \\\n",
       "0                         no                 2.0            3.0   \n",
       "1                         no                 3.0            3.0   \n",
       "2                         no                 2.0            3.0   \n",
       "3                         no                 3.0            3.0   \n",
       "4                         no                 2.0            1.0   \n",
       "\n",
       "  food_between_meals smoking_status  ...         transport_mode  \\\n",
       "0          Sometimes             no  ...  Public_Transportation   \n",
       "1          Sometimes            yes  ...  Public_Transportation   \n",
       "2          Sometimes             no  ...  Public_Transportation   \n",
       "3          Sometimes             no  ...                Walking   \n",
       "4          Sometimes             no  ...  Public_Transportation   \n",
       "\n",
       "         obesity_level        BMI    Age_Group Healthy_Drinker  \\\n",
       "0        Normal_Weight  24.386526  Young Adult             Yes   \n",
       "1        Normal_Weight  24.238227  Young Adult             Yes   \n",
       "2        Normal_Weight  23.765432  Young Adult             Yes   \n",
       "3   Overweight_Level_I  26.851852  Young Adult             Yes   \n",
       "4  Overweight_Level_II  28.342381  Young Adult             Yes   \n",
       "\n",
       "  Physical_Activity_Level Lifestyle_Score Water_Category   Is_Smoker  \\\n",
       "0                    None               2           High  Non-Smoker   \n",
       "1                Moderate               3           High      Smoker   \n",
       "2                     Low               2           High  Non-Smoker   \n",
       "3                     Low               2           High  Non-Smoker   \n",
       "4                    None               2           High  Non-Smoker   \n",
       "\n",
       "  Water_Level  \n",
       "0        High  \n",
       "1        High  \n",
       "2        High  \n",
       "3        High  \n",
       "4        High  \n",
       "\n",
       "[5 rows x 25 columns]"
      ]
     },
     "execution_count": 33,
     "metadata": {},
     "output_type": "execute_result"
    }
   ],
   "source": [
    "df_unstacked.head()"
   ]
  },
  {
   "cell_type": "markdown",
   "id": "e83e0247-9a13-4f0b-bb14-c5341668c269",
   "metadata": {},
   "source": [
    "**Transposing Data**"
   ]
  },
  {
   "cell_type": "code",
   "execution_count": 34,
   "id": "a83a4a75-c3a4-4829-a736-b95a095b9e63",
   "metadata": {},
   "outputs": [
    {
     "data": {
      "text/html": [
       "<div>\n",
       "<style scoped>\n",
       "    .dataframe tbody tr th:only-of-type {\n",
       "        vertical-align: middle;\n",
       "    }\n",
       "\n",
       "    .dataframe tbody tr th {\n",
       "        vertical-align: top;\n",
       "    }\n",
       "\n",
       "    .dataframe thead th {\n",
       "        text-align: right;\n",
       "    }\n",
       "</style>\n",
       "<table border=\"1\" class=\"dataframe\">\n",
       "  <thead>\n",
       "    <tr style=\"text-align: right;\">\n",
       "      <th></th>\n",
       "      <th>0</th>\n",
       "      <th>1</th>\n",
       "      <th>2</th>\n",
       "      <th>3</th>\n",
       "      <th>4</th>\n",
       "      <th>5</th>\n",
       "      <th>6</th>\n",
       "      <th>7</th>\n",
       "      <th>8</th>\n",
       "      <th>9</th>\n",
       "      <th>...</th>\n",
       "      <th>2101</th>\n",
       "      <th>2102</th>\n",
       "      <th>2103</th>\n",
       "      <th>2104</th>\n",
       "      <th>2105</th>\n",
       "      <th>2106</th>\n",
       "      <th>2107</th>\n",
       "      <th>2108</th>\n",
       "      <th>2109</th>\n",
       "      <th>2110</th>\n",
       "    </tr>\n",
       "  </thead>\n",
       "  <tbody>\n",
       "    <tr>\n",
       "      <th>Gender</th>\n",
       "      <td>Female</td>\n",
       "      <td>Female</td>\n",
       "      <td>Male</td>\n",
       "      <td>Male</td>\n",
       "      <td>Male</td>\n",
       "      <td>Male</td>\n",
       "      <td>Female</td>\n",
       "      <td>Male</td>\n",
       "      <td>Male</td>\n",
       "      <td>Male</td>\n",
       "      <td>...</td>\n",
       "      <td>Female</td>\n",
       "      <td>Female</td>\n",
       "      <td>Female</td>\n",
       "      <td>Female</td>\n",
       "      <td>Female</td>\n",
       "      <td>Female</td>\n",
       "      <td>Female</td>\n",
       "      <td>Female</td>\n",
       "      <td>Female</td>\n",
       "      <td>Female</td>\n",
       "    </tr>\n",
       "    <tr>\n",
       "      <th>Age</th>\n",
       "      <td>21.0</td>\n",
       "      <td>21.0</td>\n",
       "      <td>23.0</td>\n",
       "      <td>27.0</td>\n",
       "      <td>22.0</td>\n",
       "      <td>29.0</td>\n",
       "      <td>23.0</td>\n",
       "      <td>22.0</td>\n",
       "      <td>24.0</td>\n",
       "      <td>22.0</td>\n",
       "      <td>...</td>\n",
       "      <td>25.722004</td>\n",
       "      <td>25.765628</td>\n",
       "      <td>21.016849</td>\n",
       "      <td>21.682367</td>\n",
       "      <td>21.285965</td>\n",
       "      <td>20.976842</td>\n",
       "      <td>21.982942</td>\n",
       "      <td>22.524036</td>\n",
       "      <td>24.361936</td>\n",
       "      <td>23.664709</td>\n",
       "    </tr>\n",
       "    <tr>\n",
       "      <th>Height</th>\n",
       "      <td>1.62</td>\n",
       "      <td>1.52</td>\n",
       "      <td>1.8</td>\n",
       "      <td>1.8</td>\n",
       "      <td>1.78</td>\n",
       "      <td>1.62</td>\n",
       "      <td>1.5</td>\n",
       "      <td>1.64</td>\n",
       "      <td>1.78</td>\n",
       "      <td>1.72</td>\n",
       "      <td>...</td>\n",
       "      <td>1.62847</td>\n",
       "      <td>1.627839</td>\n",
       "      <td>1.724268</td>\n",
       "      <td>1.732383</td>\n",
       "      <td>1.72692</td>\n",
       "      <td>1.71073</td>\n",
       "      <td>1.748584</td>\n",
       "      <td>1.752206</td>\n",
       "      <td>1.73945</td>\n",
       "      <td>1.738836</td>\n",
       "    </tr>\n",
       "    <tr>\n",
       "      <th>Weight</th>\n",
       "      <td>64.0</td>\n",
       "      <td>56.0</td>\n",
       "      <td>77.0</td>\n",
       "      <td>87.0</td>\n",
       "      <td>89.8</td>\n",
       "      <td>53.0</td>\n",
       "      <td>55.0</td>\n",
       "      <td>53.0</td>\n",
       "      <td>64.0</td>\n",
       "      <td>68.0</td>\n",
       "      <td>...</td>\n",
       "      <td>107.218949</td>\n",
       "      <td>108.10736</td>\n",
       "      <td>133.033523</td>\n",
       "      <td>133.043941</td>\n",
       "      <td>131.335786</td>\n",
       "      <td>131.408528</td>\n",
       "      <td>133.742943</td>\n",
       "      <td>133.689352</td>\n",
       "      <td>133.346641</td>\n",
       "      <td>133.472641</td>\n",
       "    </tr>\n",
       "    <tr>\n",
       "      <th>family_history_with_overweight</th>\n",
       "      <td>yes</td>\n",
       "      <td>yes</td>\n",
       "      <td>yes</td>\n",
       "      <td>no</td>\n",
       "      <td>no</td>\n",
       "      <td>no</td>\n",
       "      <td>yes</td>\n",
       "      <td>no</td>\n",
       "      <td>yes</td>\n",
       "      <td>yes</td>\n",
       "      <td>...</td>\n",
       "      <td>yes</td>\n",
       "      <td>yes</td>\n",
       "      <td>yes</td>\n",
       "      <td>yes</td>\n",
       "      <td>yes</td>\n",
       "      <td>yes</td>\n",
       "      <td>yes</td>\n",
       "      <td>yes</td>\n",
       "      <td>yes</td>\n",
       "      <td>yes</td>\n",
       "    </tr>\n",
       "  </tbody>\n",
       "</table>\n",
       "<p>5 rows × 1920 columns</p>\n",
       "</div>"
      ],
      "text/plain": [
       "                                  0       1     2     3     4     5     \\\n",
       "Gender                          Female  Female  Male  Male  Male  Male   \n",
       "Age                               21.0    21.0  23.0  27.0  22.0  29.0   \n",
       "Height                            1.62    1.52   1.8   1.8  1.78  1.62   \n",
       "Weight                            64.0    56.0  77.0  87.0  89.8  53.0   \n",
       "family_history_with_overweight     yes     yes   yes    no    no    no   \n",
       "\n",
       "                                  6     7     8     9     ...        2101  \\\n",
       "Gender                          Female  Male  Male  Male  ...      Female   \n",
       "Age                               23.0  22.0  24.0  22.0  ...   25.722004   \n",
       "Height                             1.5  1.64  1.78  1.72  ...     1.62847   \n",
       "Weight                            55.0  53.0  64.0  68.0  ...  107.218949   \n",
       "family_history_with_overweight     yes    no   yes   yes  ...         yes   \n",
       "\n",
       "                                     2102        2103        2104        2105  \\\n",
       "Gender                             Female      Female      Female      Female   \n",
       "Age                             25.765628   21.016849   21.682367   21.285965   \n",
       "Height                           1.627839    1.724268    1.732383     1.72692   \n",
       "Weight                          108.10736  133.033523  133.043941  131.335786   \n",
       "family_history_with_overweight        yes         yes         yes         yes   \n",
       "\n",
       "                                      2106        2107        2108  \\\n",
       "Gender                              Female      Female      Female   \n",
       "Age                              20.976842   21.982942   22.524036   \n",
       "Height                             1.71073    1.748584    1.752206   \n",
       "Weight                          131.408528  133.742943  133.689352   \n",
       "family_history_with_overweight         yes         yes         yes   \n",
       "\n",
       "                                      2109        2110  \n",
       "Gender                              Female      Female  \n",
       "Age                              24.361936   23.664709  \n",
       "Height                             1.73945    1.738836  \n",
       "Weight                          133.346641  133.472641  \n",
       "family_history_with_overweight         yes         yes  \n",
       "\n",
       "[5 rows x 1920 columns]"
      ]
     },
     "execution_count": 34,
     "metadata": {},
     "output_type": "execute_result"
    }
   ],
   "source": [
    "df_transposed = df.T    ## Flips rows to columns (or vice versa)\n",
    "df_transposed.head()"
   ]
  },
  {
   "cell_type": "markdown",
   "id": "3b1fa7b5-f964-41fd-b66a-3e3367ab61a2",
   "metadata": {},
   "source": [
    "**pivot() – Reshape long to wide\n",
    "df_wide = df.pivot(index='ID', columns='Variable', values='Value')**"
   ]
  },
  {
   "cell_type": "markdown",
   "id": "1c62e6b7-dfb4-4d24-b8f4-e1910c0292a3",
   "metadata": {},
   "source": [
    "**melt() – Reshape wide to long\n",
    "df_long = df.melt(id_vars=['ID'], value_vars=['Height', 'Weight'])**"
   ]
  },
  {
   "cell_type": "raw",
   "id": "deef27f4-4d1a-4069-a311-04a0c5f00eef",
   "metadata": {},
   "source": [
    "Types of Joins in pandas\n",
    "Join Type\tDescription\n",
    "inner\tKeeps only matching rows from both tables\n",
    "left\tKeeps all rows from the left table, matching rows from the right table\n",
    "right\tKeeps all rows from the right table, matching rows from the left table\n",
    "outer\tKeeps all rows from both tables, fills missing values with NaN\n",
    "2. Basic Syntax\n",
    "merged_df = pd.merge(df1, df2, on='common_column', how='inner')\n",
    "You can replace \"inner\" with \"left\", \"right\", or \"outer\" depending on your need.\n",
    "3. Joining on Different Column Names\n",
    "pd.merge(df1, df2, left_on='user_id', right_on='id')\n",
    "4. Concatenating Rows (Stacking Tables)\n",
    "Use this when tables have the same columns and you want to add more rows:\n",
    "df_combined = pd.concat([df1, df2], axis=0)\n",
    "5. Concatenating Columns (Side-by-Side)\n",
    "If they are the same length:\n",
    "df_combined = pd.concat([df1, df2], axis=1)"
   ]
  },
  {
   "cell_type": "code",
   "execution_count": null,
   "id": "b9ee2995-90ba-4725-9e2f-77e12545109a",
   "metadata": {},
   "outputs": [],
   "source": []
  },
  {
   "cell_type": "code",
   "execution_count": null,
   "id": "909fea5b-5463-41fd-aabb-c5e043309c13",
   "metadata": {},
   "outputs": [],
   "source": []
  }
 ],
 "metadata": {
  "kernelspec": {
   "display_name": "Python 3 (ipykernel)",
   "language": "python",
   "name": "python3"
  },
  "language_info": {
   "codemirror_mode": {
    "name": "ipython",
    "version": 3
   },
   "file_extension": ".py",
   "mimetype": "text/x-python",
   "name": "python",
   "nbconvert_exporter": "python",
   "pygments_lexer": "ipython3",
   "version": "3.12.7"
  }
 },
 "nbformat": 4,
 "nbformat_minor": 5
}
